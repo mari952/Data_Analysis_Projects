{
 "cells": [
  {
   "cell_type": "code",
   "execution_count": 1,
   "id": "607fb448",
   "metadata": {},
   "outputs": [],
   "source": [
    "import warnings\n",
    "from sqlalchemy import create_engine\n",
    "import pandas as  pd\n",
    "import os\n",
    "import urllib.parse\n",
    "import logging"
   ]
  },
  {
   "cell_type": "markdown",
   "id": "3e430361",
   "metadata": {},
   "source": [
    "Warning Handlings"
   ]
  },
  {
   "cell_type": "code",
   "execution_count": null,
   "id": "33c10657",
   "metadata": {},
   "outputs": [],
   "source": [
    "warnings.filterwarnings('ignore')"
   ]
  },
  {
   "cell_type": "markdown",
   "id": "4b7393db",
   "metadata": {},
   "source": [
    "Create and Connect to Engine"
   ]
  },
  {
   "cell_type": "code",
   "execution_count": 2,
   "id": "19e15a64",
   "metadata": {},
   "outputs": [],
   "source": [
    "username = 'root'\n",
    "password = '65tguhA@7u'\n",
    "host =  'localhost'\n",
    "database = 'painting'\n",
    "encoded_password = urllib.parse.quote_plus(password)"
   ]
  },
  {
   "cell_type": "code",
   "execution_count": 3,
   "id": "bae75a70",
   "metadata": {},
   "outputs": [],
   "source": [
    "conn_string = f'mysql+mysqlconnector://{username}:{encoded_password}@{host}/{database}'\n",
    "db = create_engine(conn_string)\n",
    "conn = db.connect()"
   ]
  },
  {
   "cell_type": "code",
   "execution_count": 12,
   "id": "5eb69e99",
   "metadata": {},
   "outputs": [],
   "source": [
    "files = ['artist','canvas_size','image_link','museum','museum_hours','product_size','subject','work']\n",
    "\n",
    "path = r'E:\\DATAPATH\\Projects\\SQL'\n",
    "\n",
    "for file in files:\n",
    "    # Read the CSV file\n",
    "    file_path = os.path.join(path, f'{file}.csv')\n",
    "    df = pd.read_csv(file_path)\n",
    "    df.to_sql(file, con=conn, if_exists='replace', index=False)"
   ]
  },
  {
   "cell_type": "code",
   "execution_count": 4,
   "id": "d231033e",
   "metadata": {},
   "outputs": [
    {
     "data": {
      "text/plain": [
       "421"
      ]
     },
     "execution_count": 4,
     "metadata": {},
     "output_type": "execute_result"
    }
   ],
   "source": [
    "path = r'E:\\DATAPATH\\Projects\\SQL'\n",
    "file_path = os.path.join(path, f'artist.csv')\n",
    "df = pd.read_csv(file_path)\n",
    "df.to_sql('artist', con=conn, if_exists='replace', index=False)"
   ]
  },
  {
   "cell_type": "code",
   "execution_count": 5,
   "id": "677e3c6d",
   "metadata": {},
   "outputs": [
    {
     "data": {
      "text/plain": [
       "200"
      ]
     },
     "execution_count": 5,
     "metadata": {},
     "output_type": "execute_result"
    }
   ],
   "source": [
    "path = r'E:\\DATAPATH\\Projects\\SQL'\n",
    "file_path = os.path.join(path, f'canvas_size.csv')\n",
    "df = pd.read_csv(file_path)\n",
    "df.to_sql('canvas_size', con=conn, if_exists='replace', index=False)"
   ]
  },
  {
   "cell_type": "code",
   "execution_count": 6,
   "id": "c8702179",
   "metadata": {},
   "outputs": [
    {
     "data": {
      "text/plain": [
       "14775"
      ]
     },
     "execution_count": 6,
     "metadata": {},
     "output_type": "execute_result"
    }
   ],
   "source": [
    "path = r'E:\\DATAPATH\\Projects\\SQL'\n",
    "file_path = os.path.join(path, f'image_link.csv')\n",
    "df = pd.read_csv(file_path)\n",
    "df.to_sql('image_link', con=conn, if_exists='replace', index=False)"
   ]
  },
  {
   "cell_type": "code",
   "execution_count": 17,
   "id": "5c64f2af",
   "metadata": {},
   "outputs": [
    {
     "data": {
      "text/plain": [
       "421"
      ]
     },
     "execution_count": 17,
     "metadata": {},
     "output_type": "execute_result"
    }
   ],
   "source": [
    "path = r'E:\\DATAPATH\\Projects\\SQL\\Dataset'\n",
    "file_path = os.path.join(path, f'artist.csv')\n",
    "df = pd.read_csv(file_path)\n",
    "df.to_sql('artist', con=conn, if_exists='replace', index=False)"
   ]
  }
 ],
 "metadata": {
  "kernelspec": {
   "display_name": "sql",
   "language": "python",
   "name": "sql"
  },
  "language_info": {
   "codemirror_mode": {
    "name": "ipython",
    "version": 3
   },
   "file_extension": ".py",
   "mimetype": "text/x-python",
   "name": "python",
   "nbconvert_exporter": "python",
   "pygments_lexer": "ipython3",
   "version": "3.11.5"
  }
 },
 "nbformat": 4,
 "nbformat_minor": 5
}
